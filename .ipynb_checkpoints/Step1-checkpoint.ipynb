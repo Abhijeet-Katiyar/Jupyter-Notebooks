{
 "cells": [
  {
   "cell_type": "code",
   "execution_count": 1,
   "metadata": {},
   "outputs": [
    {
     "name": "stdout",
     "output_type": "stream",
     "text": [
      "0.7444680717063792\n"
     ]
    }
   ],
   "source": [
    "import pandas as pd\n",
    "import numpy as np\n",
    "\n",
    "Data=pd.read_csv(\"E:/MiniProject/NewYork_inliers.csv\")\n",
    "\n",
    "X=np.log(Data[['TOT_POP', 'PCT_U18', 'PC_18_65', 'PCT_O65']])\n",
    "y=np.log(Data['MALE_FEM'])\n",
    "\n",
    "from sklearn.model_selection import train_test_split\n",
    "X_train, X_test, y_train, y_test = train_test_split( X, y, test_size=0.30, random_state=42)\n",
    "\n",
    "from sklearn.linear_model import LinearRegression as LR\n",
    "lm=LR(normalize=True,fit_intercept=True)\n",
    "lm_fit=lm.fit(X_train,y_train)\n",
    "\n",
    "Predicts=lm.predict(np.array(X_test))\n",
    "\n",
    "import sklearn.metrics as po\n",
    "print(po.r2_score(np.exp(y_test),np.exp(Predicts)))\n"
   ]
  },
  {
   "cell_type": "code",
   "execution_count": 6,
   "metadata": {},
   "outputs": [
    {
     "ename": "AttributeError",
     "evalue": "'EllipticEnvelope' object has no attribute 'fit_predict'",
     "output_type": "error",
     "traceback": [
      "\u001b[1;31m---------------------------------------------------------------------------\u001b[0m",
      "\u001b[1;31mAttributeError\u001b[0m                            Traceback (most recent call last)",
      "\u001b[1;32m<ipython-input-6-3881dc907db7>\u001b[0m in \u001b[0;36m<module>\u001b[1;34m()\u001b[0m\n\u001b[0;32m      7\u001b[0m \u001b[1;33m\u001b[0m\u001b[0m\n\u001b[0;32m      8\u001b[0m \u001b[0minlier_model\u001b[0m\u001b[1;33m=\u001b[0m\u001b[0mco\u001b[0m\u001b[1;33m.\u001b[0m\u001b[0mEllipticEnvelope\u001b[0m\u001b[1;33m(\u001b[0m\u001b[0mstore_precision\u001b[0m\u001b[1;33m=\u001b[0m\u001b[1;32mTrue\u001b[0m\u001b[1;33m,\u001b[0m \u001b[0massume_centered\u001b[0m\u001b[1;33m=\u001b[0m\u001b[1;32mFalse\u001b[0m\u001b[1;33m,\u001b[0m \u001b[0msupport_fraction\u001b[0m\u001b[1;33m=\u001b[0m\u001b[1;32mNone\u001b[0m\u001b[1;33m,\u001b[0m \u001b[0mcontamination\u001b[0m\u001b[1;33m=\u001b[0m\u001b[1;36m0.1\u001b[0m\u001b[1;33m,\u001b[0m \u001b[0mrandom_state\u001b[0m\u001b[1;33m=\u001b[0m\u001b[1;32mNone\u001b[0m\u001b[1;33m)\u001b[0m\u001b[1;33m\u001b[0m\u001b[0m\n\u001b[1;32m----> 9\u001b[1;33m \u001b[0mMahalanobis\u001b[0m\u001b[1;33m=\u001b[0m\u001b[0minlier_model\u001b[0m\u001b[1;33m.\u001b[0m\u001b[0mfit_predict\u001b[0m\u001b[1;33m(\u001b[0m\u001b[0mData\u001b[0m\u001b[1;33m)\u001b[0m\u001b[1;33m\u001b[0m\u001b[0m\n\u001b[0m",
      "\u001b[1;31mAttributeError\u001b[0m: 'EllipticEnvelope' object has no attribute 'fit_predict'"
     ]
    }
   ],
   "source": [
    "import pandas as pd\n",
    "import numpy as np\n",
    "\n",
    "New_York=pd.read_csv(\"E:/MiniProject/New_york.csv\")\n",
    "Data=New_York[['TOT_POP','PCT_U18','PC_18_65','PCT_O65','MALE_FEM']]\n",
    "from sklearn import covariance as co\n",
    "\n",
    "inlier_model=co.EllipticEnvelope(store_precision=True, assume_centered=False, support_fraction=None, contamination=0.1, random_state=None)\n",
    "Mahalanobis=inlier_model.fit_predict(Data)\n"
   ]
  },
  {
   "cell_type": "code",
   "execution_count": 5,
   "metadata": {},
   "outputs": [
    {
     "data": {
      "text/plain": [
       "array([[1753.   ,  443.509,  985.186,  324.305,   79.   ],\n",
       "       [1675.   ,  509.2  ,  983.225,  182.575,   87.   ],\n",
       "       [1842.   ,  530.496, 1031.52 ,  279.984,   84.   ],\n",
       "       ...,\n",
       "       [2972.   ,  638.98 , 1697.012,  636.008,   85.3  ],\n",
       "       [2075.   ,  543.65 , 1222.175,  309.175,   88.9  ],\n",
       "       [1177.   ,  310.728,  781.528,   83.567,   92.9  ]])"
      ]
     },
     "execution_count": 5,
     "metadata": {},
     "output_type": "execute_result"
    }
   ],
   "source": [
    "np.array(Data)"
   ]
  },
  {
   "cell_type": "code",
   "execution_count": null,
   "metadata": {},
   "outputs": [],
   "source": []
  }
 ],
 "metadata": {
  "kernelspec": {
   "display_name": "Python 3",
   "language": "python",
   "name": "python3"
  },
  "language_info": {
   "codemirror_mode": {
    "name": "ipython",
    "version": 3
   },
   "file_extension": ".py",
   "mimetype": "text/x-python",
   "name": "python",
   "nbconvert_exporter": "python",
   "pygments_lexer": "ipython3",
   "version": "3.6.4"
  }
 },
 "nbformat": 4,
 "nbformat_minor": 2
}
