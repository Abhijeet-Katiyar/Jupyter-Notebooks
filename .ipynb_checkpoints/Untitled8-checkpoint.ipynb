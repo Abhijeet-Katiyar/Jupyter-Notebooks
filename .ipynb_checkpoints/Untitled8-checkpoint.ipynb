{
 "cells": [
  {
   "cell_type": "code",
   "execution_count": 1,
   "metadata": {},
   "outputs": [
    {
     "name": "stdout",
     "output_type": "stream",
     "text": [
      "<class 'pandas.core.frame.DataFrame'>\n",
      "DatetimeIndex: 1987 entries, 2010-04-01 to 2018-03-28\n",
      "Data columns (total 6 columns):\n",
      "Open                 1987 non-null float64\n",
      "High                 1987 non-null float64\n",
      "Low                  1987 non-null float64\n",
      "Close                1987 non-null float64\n",
      "Shares Traded        1987 non-null int64\n",
      "Turnover (Rs. Cr)    1987 non-null float64\n",
      "dtypes: float64(5), int64(1)\n",
      "memory usage: 108.7 KB\n"
     ]
    }
   ],
   "source": [
    "import pandas as pd\n",
    "Nifty_data=pd.read_csv(\"E:/summer/NIFTY50.csv\",parse_dates=['Date'],index_col=['Date'])\n",
    "Nifty_data.info()"
   ]
  },
  {
   "cell_type": "code",
   "execution_count": 18,
   "metadata": {},
   "outputs": [],
   "source": [
    "diff=Nifty_data['Close'].diff()\n",
    "diff.dropna(inplace=True)"
   ]
  },
  {
   "cell_type": "code",
   "execution_count": 19,
   "metadata": {},
   "outputs": [],
   "source": [
    "from statsmodels.tsa.arima_model import ARMA\n",
    "# seperating training and testing data\n",
    "train=diff.iloc[:1750]\n",
    "test=diff.iloc[1751:]"
   ]
  },
  {
   "cell_type": "code",
   "execution_count": 20,
   "metadata": {},
   "outputs": [],
   "source": [
    "# Building ARIMA model\n",
    "model = ARMA(diff, order=(2,2))  \n"
   ]
  },
  {
   "cell_type": "code",
   "execution_count": 21,
   "metadata": {},
   "outputs": [
    {
     "name": "stderr",
     "output_type": "stream",
     "text": [
      "C:\\Anaconda\\lib\\site-packages\\statsmodels\\tsa\\kalmanf\\kalmanfilter.py:646: FutureWarning: Conversion of the second argument of issubdtype from `float` to `np.floating` is deprecated. In future, it will be treated as `np.float64 == np.dtype(float).type`.\n",
      "  if issubdtype(paramsdtype, float):\n",
      "C:\\Anaconda\\lib\\site-packages\\statsmodels\\tsa\\kalmanf\\kalmanfilter.py:650: FutureWarning: Conversion of the second argument of issubdtype from `complex` to `np.complexfloating` is deprecated. In future, it will be treated as `np.complex128 == np.dtype(complex).type`.\n",
      "  elif issubdtype(paramsdtype, complex):\n"
     ]
    }
   ],
   "source": [
    "results_ARMA = model.fit()"
   ]
  },
  {
   "cell_type": "code",
   "execution_count": 22,
   "metadata": {},
   "outputs": [
    {
     "name": "stderr",
     "output_type": "stream",
     "text": [
      "C:\\Anaconda\\lib\\site-packages\\statsmodels\\tsa\\kalmanf\\kalmanfilter.py:646: FutureWarning: Conversion of the second argument of issubdtype from `float` to `np.floating` is deprecated. In future, it will be treated as `np.float64 == np.dtype(float).type`.\n",
      "  if issubdtype(paramsdtype, float):\n",
      "C:\\Anaconda\\lib\\site-packages\\statsmodels\\tsa\\kalmanf\\kalmanfilter.py:650: FutureWarning: Conversion of the second argument of issubdtype from `complex` to `np.complexfloating` is deprecated. In future, it will be treated as `np.complex128 == np.dtype(complex).type`.\n",
      "  elif issubdtype(paramsdtype, complex):\n"
     ]
    }
   ],
   "source": [
    "results_ARMA = model.fit()"
   ]
  },
  {
   "cell_type": "code",
   "execution_count": 23,
   "metadata": {},
   "outputs": [
    {
     "name": "stderr",
     "output_type": "stream",
     "text": [
      "C:\\Anaconda\\lib\\site-packages\\statsmodels\\tsa\\kalmanf\\kalmanfilter.py:577: FutureWarning: Conversion of the second argument of issubdtype from `float` to `np.floating` is deprecated. In future, it will be treated as `np.float64 == np.dtype(float).type`.\n",
      "  if issubdtype(paramsdtype, float):\n"
     ]
    },
    {
     "data": {
      "text/plain": [
       "Date\n",
       "2010-04-05    2.429683\n",
       "2010-04-06    8.567037\n",
       "2010-04-07    0.673000\n",
       "2010-04-08    3.941245\n",
       "2010-04-09   -4.477808\n",
       "dtype: float64"
      ]
     },
     "execution_count": 23,
     "metadata": {},
     "output_type": "execute_result"
    }
   ],
   "source": [
    "predict_Arma=pd.Series(results_ARMA.fittedvalues, copy=True)\n",
    "predict_Arma.head()"
   ]
  },
  {
   "cell_type": "code",
   "execution_count": 25,
   "metadata": {},
   "outputs": [
    {
     "data": {
      "text/plain": [
       "Date\n",
       "2010-04-01    5290.500000\n",
       "2010-04-05    5292.929683\n",
       "2010-04-06    5301.496720\n",
       "2010-04-07    5302.169720\n",
       "2010-04-08    5306.110965\n",
       "dtype: float64"
      ]
     },
     "execution_count": 25,
     "metadata": {},
     "output_type": "execute_result"
    }
   ],
   "source": [
    "predict_Arma_cumsum=predict_Arma.cumsum()\n",
    "predict_Arma_data=pd.Series(Nifty_data['Close'].iloc[0], index=Nifty_data.index)\n",
    "predict_Arma_data=predict_Arma_data.add(predict_Arma_cumsum,fill_value=0)\n",
    "predict_Arma_data.head()"
   ]
  },
  {
   "cell_type": "code",
   "execution_count": 27,
   "metadata": {},
   "outputs": [],
   "source": [
    "import matplotlib.pyplot as plt"
   ]
  },
  {
   "cell_type": "code",
   "execution_count": 28,
   "metadata": {},
   "outputs": [
    {
     "data": {
      "image/png": "[encoded data removed]",
      "text/plain": [
       "<matplotlib.figure.Figure at 0x1bc42790080>"
      ]
     },
     "metadata": {},
     "output_type": "display_data"
    }
   ],
   "source": [
    "plt.plot(Nifty_data['Close'],label='Close prices')\n",
    "plt.plot(predict_Arma_data,label='predicted values')\n",
    "plt.legend()\n",
    "plt.show()"
   ]
  },
  {
   "cell_type": "code",
   "execution_count": 29,
   "metadata": {},
   "outputs": [
    {
     "data": {
      "text/plain": [
       "0.7398187397952602"
      ]
     },
     "execution_count": 29,
     "metadata": {},
     "output_type": "execute_result"
    }
   ],
   "source": [
    "import sklearn.metrics\n",
    "sklearn.metrics.r2_score(Nifty_data['Close'],predict_Arma_data)"
   ]
  },
  {
   "cell_type": "code",
   "execution_count": 32,
   "metadata": {},
   "outputs": [
    {
     "name": "stderr",
     "output_type": "stream",
     "text": [
      "C:\\Anaconda\\lib\\site-packages\\statsmodels\\tsa\\kalmanf\\kalmanfilter.py:646: FutureWarning: Conversion of the second argument of issubdtype from `float` to `np.floating` is deprecated. In future, it will be treated as `np.float64 == np.dtype(float).type`.\n",
      "  if issubdtype(paramsdtype, float):\n",
      "C:\\Anaconda\\lib\\site-packages\\statsmodels\\tsa\\kalmanf\\kalmanfilter.py:650: FutureWarning: Conversion of the second argument of issubdtype from `complex` to `np.complexfloating` is deprecated. In future, it will be treated as `np.complex128 == np.dtype(complex).type`.\n",
      "  elif issubdtype(paramsdtype, complex):\n",
      "C:\\Anaconda\\lib\\site-packages\\statsmodels\\tsa\\kalmanf\\kalmanfilter.py:577: FutureWarning: Conversion of the second argument of issubdtype from `float` to `np.floating` is deprecated. In future, it will be treated as `np.float64 == np.dtype(float).type`.\n",
      "  if issubdtype(paramsdtype, float):\n"
     ]
    },
    {
     "name": "stdout",
     "output_type": "stream",
     "text": [
      "predicted=-1.843979, expected=32.900000\n",
      "predicted=-1.843979, expected=-17.000000\n",
      "predicted=-1.843979, expected=98.550000\n",
      "predicted=-1.843979, expected=88.650000\n",
      "predicted=-1.843979, expected=45.250000\n",
      "predicted=-1.843979, expected=-9.700000\n",
      "predicted=-1.843979, expected=-38.100000\n",
      "predicted=-1.843979, expected=9.750000\n",
      "predicted=-1.843979, expected=-1.850000\n",
      "predicted=-1.843979, expected=47.950000\n",
      "predicted=-1.843979, expected=-74.600000\n",
      "predicted=-1.843979, expected=28.750000\n",
      "predicted=-1.843979, expected=2.800000\n",
      "predicted=-1.843979, expected=90.450000\n",
      "predicted=-1.843979, expected=15.100000\n",
      "predicted=-1.843979, expected=-21.500000\n",
      "predicted=-1.843979, expected=44.500000\n",
      "predicted=-1.843979, expected=66.850000\n",
      "predicted=-1.843979, expected=13.500000\n",
      "predicted=-1.843979, expected=-96.300000\n",
      "predicted=-1.843979, expected=-1.550000\n",
      "predicted=-1.843979, expected=10.350000\n",
      "predicted=-1.843979, expected=-52.100000\n",
      "predicted=-1.843979, expected=-25.600000\n",
      "predicted=-1.843979, expected=149.200000\n",
      "predicted=-1.843979, expected=85.350000\n",
      "predicted=-1.843979, expected=9.800000\n",
      "predicted=-1.843979, expected=19.650000\n",
      "predicted=-1.843979, expected=-3.300000\n",
      "predicted=-1.843979, expected=-5.150000\n",
      "predicted=-1.843979, expected=37.400000\n",
      "predicted=-1.843979, expected=21.600000\n",
      "predicted=-1.843979, expected=-37.950000\n",
      "predicted=-1.843979, expected=26.750000\n",
      "predicted=-1.843979, expected=-16.650000\n",
      "predicted=-1.843979, expected=21.000000\n",
      "predicted=-1.843979, expected=-51.850000\n",
      "predicted=-1.843979, expected=-9.500000\n",
      "predicted=-1.843979, expected=11.250000\n",
      "predicted=-1.843979, expected=-40.100000\n",
      "predicted=-1.843979, expected=10.000000\n",
      "predicted=-1.843979, expected=69.500000\n",
      "predicted=-1.843979, expected=-4.050000\n",
      "predicted=-1.843979, expected=-19.900000\n",
      "predicted=-1.843979, expected=-3.600000\n",
      "predicted=-1.843979, expected=-55.050000\n",
      "predicted=-1.843979, expected=-63.550000\n",
      "predicted=-1.843979, expected=-20.150000\n",
      "predicted=-1.843979, expected=12.850000\n",
      "predicted=-1.843979, expected=16.800000\n",
      "predicted=-1.843979, expected=94.100000\n",
      "predicted=-1.843979, expected=-1.700000\n",
      "predicted=-1.843979, expected=24.300000\n",
      "predicted=-1.843979, expected=36.950000\n",
      "predicted=-1.843979, expected=-8.750000\n",
      "predicted=-1.843979, expected=105.250000\n",
      "predicted=-1.843979, expected=15.000000\n",
      "predicted=-1.843979, expected=30.050000\n",
      "predicted=-1.843979, expected=75.600000\n",
      "predicted=-1.843979, expected=-5.350000\n",
      "predicted=-1.843979, expected=29.600000\n",
      "predicted=-1.843979, expected=-88.800000\n",
      "predicted=-1.843979, expected=72.450000\n",
      "predicted=-1.843979, expected=-26.300000\n",
      "predicted=-1.843979, expected=41.950000\n",
      "predicted=-1.843979, expected=51.150000\n",
      "predicted=-1.843979, expected=-1.850000\n",
      "predicted=-1.843979, expected=56.100000\n",
      "predicted=-1.843979, expected=-0.100000\n",
      "predicted=-1.843979, expected=-6.050000\n",
      "predicted=-1.843979, expected=62.600000\n",
      "predicted=-1.843979, expected=37.550000\n",
      "predicted=-1.843979, expected=-33.150000\n",
      "predicted=-1.843979, expected=-67.850000\n",
      "predicted=-1.843979, expected=52.750000\n",
      "predicted=-1.843979, expected=-9.000000\n",
      "predicted=-1.843979, expected=-78.850000\n",
      "predicted=-1.843979, expected=-70.500000\n",
      "predicted=-1.843979, expected=-87.800000\n",
      "predicted=-1.843979, expected=-109.450000\n",
      "predicted=-1.843979, expected=83.350000\n",
      "predicted=-1.843979, expected=103.150000\n",
      "predicted=-1.843979, expected=6.850000\n",
      "predicted=-1.843979, expected=-66.750000\n",
      "predicted=-1.843979, expected=-83.050000\n",
      "predicted=-1.843979, expected=11.200000\n",
      "predicted=-1.843979, expected=86.950000\n",
      "predicted=-1.843979, expected=4.550000\n",
      "predicted=-1.843979, expected=55.750000\n",
      "predicted=-1.843979, expected=-116.750000\n",
      "predicted=-1.843979, expected=88.350000\n",
      "predicted=-1.843979, expected=33.500000\n",
      "predicted=-1.843979, expected=56.500000\n",
      "predicted=-1.843979, expected=-61.550000\n",
      "predicted=-1.843979, expected=39.350000\n",
      "predicted=-1.843979, expected=-36.000000\n",
      "predicted=-1.843979, expected=13.700000\n",
      "predicted=-1.843979, expected=4.900000\n",
      "predicted=-1.843979, expected=71.250000\n",
      "predicted=-1.843979, expected=87.000000\n",
      "predicted=-1.843979, expected=-13.750000\n",
      "predicted=-1.843979, expected=7.300000\n",
      "predicted=-1.843979, expected=-1.200000\n",
      "predicted=-1.843979, expected=67.700000\n",
      "predicted=-1.843979, expected=-5.550000\n",
      "predicted=-1.843979, expected=-6.400000\n",
      "predicted=-1.843979, expected=-19.250000\n",
      "predicted=-1.843979, expected=-157.500000\n",
      "predicted=-1.843979, expected=-91.800000\n",
      "predicted=-1.843979, expected=-1.100000\n",
      "predicted=-1.843979, expected=-135.750000\n",
      "predicted=-1.843979, expected=33.200000\n",
      "predicted=-1.843979, expected=19.650000\n",
      "predicted=-1.843979, expected=70.900000\n",
      "predicted=-1.843979, expected=55.400000\n",
      "predicted=-1.843979, expected=-26.200000\n",
      "predicted=-1.843979, expected=91.000000\n",
      "predicted=-1.843979, expected=9.050000\n",
      "predicted=-1.843979, expected=28.200000\n",
      "predicted=-1.843979, expected=-32.150000\n",
      "predicted=-1.843979, expected=111.600000\n",
      "predicted=-1.843979, expected=71.050000\n",
      "predicted=-1.843979, expected=63.400000\n",
      "predicted=-1.843979, expected=3.600000\n",
      "predicted=-1.843979, expected=-23.600000\n",
      "predicted=-1.843979, expected=-64.300000\n",
      "predicted=-1.843979, expected=38.300000\n",
      "predicted=-1.843979, expected=22.850000\n",
      "predicted=-1.843979, expected=87.650000\n",
      "predicted=-1.843979, expected=48.450000\n",
      "predicted=-1.843979, expected=-20.750000\n",
      "predicted=-1.843979, expected=40.600000\n",
      "predicted=-1.843979, expected=-28.350000\n",
      "predicted=-1.843979, expected=105.200000\n",
      "predicted=-1.843979, expected=-16.700000\n",
      "predicted=-1.843979, expected=28.700000\n",
      "predicted=-1.843979, expected=-0.700000\n",
      "predicted=-1.843979, expected=-101.650000\n",
      "predicted=-1.843979, expected=-47.000000\n",
      "predicted=-1.843979, expected=5.800000\n",
      "predicted=-1.843979, expected=12.800000\n",
      "predicted=-1.843979, expected=-96.800000\n",
      "predicted=-1.843979, expected=-38.350000\n",
      "predicted=-1.843979, expected=-68.550000\n",
      "predicted=-1.843979, expected=96.700000\n",
      "predicted=-1.843979, expected=68.850000\n",
      "predicted=-1.843979, expected=15.150000\n",
      "predicted=-1.843979, expected=28.150000\n",
      "predicted=-1.843979, expected=15.400000\n",
      "predicted=-1.843979, expected=6.450000\n",
      "predicted=-1.843979, expected=40.950000\n",
      "predicted=-1.843979, expected=9.850000\n",
      "predicted=-1.843979, expected=-29.300000\n",
      "predicted=-1.843979, expected=-8.950000\n",
      "predicted=-1.843979, expected=-134.750000\n",
      "predicted=-1.843979, expected=-104.750000\n",
      "predicted=-1.843979, expected=5.950000\n",
      "predicted=-1.843979, expected=-9.500000\n",
      "predicted=-1.843979, expected=-74.150000\n",
      "predicted=-1.843979, expected=122.600000\n",
      "predicted=-1.843979, expected=98.950000\n",
      "predicted=-1.843979, expected=56.600000\n",
      "predicted=-1.843979, expected=-82.100000\n",
      "predicted=-1.843979, expected=-47.200000\n",
      "predicted=-1.843979, expected=59.150000\n",
      "predicted=-1.843979, expected=81.150000\n",
      "predicted=-1.843979, expected=55.500000\n",
      "predicted=-1.843979, expected=74.450000\n",
      "predicted=-1.843979, expected=-19.000000\n",
      "predicted=-1.843979, expected=-3.900000\n",
      "predicted=-1.843979, expected=52.700000\n",
      "predicted=-1.843979, expected=38.500000\n",
      "predicted=-1.843979, expected=-40.750000\n",
      "predicted=-1.843979, expected=-12.850000\n",
      "predicted=-1.843979, expected=52.800000\n",
      "predicted=-1.843979, expected=-95.150000\n",
      "predicted=-1.843979, expected=6.650000\n",
      "predicted=-1.843979, expected=1.000000\n",
      "predicted=-1.843979, expected=61.600000\n",
      "predicted=-1.843979, expected=54.050000\n",
      "predicted=-1.843979, expected=64.750000\n",
      "predicted=-1.843979, expected=13.400000\n",
      "predicted=-1.843979, expected=-4.800000\n",
      "predicted=-1.843979, expected=19.000000\n",
      "predicted=-1.843979, expected=30.050000\n",
      "predicted=-1.843979, expected=60.300000\n",
      "predicted=-1.843979, expected=-41.100000\n",
      "predicted=-1.843979, expected=88.100000\n",
      "predicted=-1.843979, expected=28.450000\n",
      "predicted=-1.843979, expected=77.700000\n",
      "predicted=-1.843979, expected=71.500000\n",
      "predicted=-1.843979, expected=117.500000\n",
      "predicted=-1.843979, expected=2.300000\n",
      "predicted=-1.843979, expected=-16.350000\n",
      "predicted=-1.843979, expected=60.750000\n",
      "predicted=-1.843979, expected=-80.750000\n",
      "predicted=-1.843979, expected=-21.950000\n",
      "predicted=-1.843979, expected=-10.800000\n",
      "predicted=-1.843979, expected=-256.300000\n",
      "predicted=-1.843979, expected=-94.050000\n",
      "predicted=-1.843979, expected=-168.300000\n",
      "predicted=-1.843979, expected=-21.550000\n",
      "predicted=-1.843979, expected=100.150000\n",
      "predicted=-1.843979, expected=-121.900000\n"
     ]
    },
    {
     "name": "stdout",
     "output_type": "stream",
     "text": [
      "predicted=-1.843979, expected=84.800000\n",
      "predicted=-1.843979, expected=-38.850000\n",
      "predicted=-1.843979, expected=44.600000\n",
      "predicted=-1.843979, expected=-93.200000\n",
      "predicted=-1.843979, expected=-73.900000\n",
      "predicted=-1.843979, expected=-18.000000\n",
      "predicted=-1.843979, expected=37.050000\n",
      "predicted=-1.843979, expected=-14.750000\n",
      "predicted=-1.843979, expected=108.350000\n",
      "predicted=-1.843979, expected=91.550000\n",
      "predicted=-1.843979, expected=-28.300000\n",
      "predicted=-1.843979, expected=-61.450000\n",
      "predicted=-1.843979, expected=-34.500000\n",
      "predicted=-1.843979, expected=-99.500000\n",
      "predicted=-1.843979, expected=-109.600000\n",
      "predicted=-1.843979, expected=-95.050000\n",
      "predicted=-1.843979, expected=88.450000\n",
      "predicted=-1.843979, expected=-15.800000\n",
      "predicted=-1.843979, expected=194.550000\n",
      "predicted=-1.843979, expected=5.450000\n",
      "predicted=-1.843979, expected=-15.950000\n",
      "predicted=-1.843979, expected=-50.750000\n",
      "predicted=-1.843979, expected=-165.000000\n",
      "predicted=-1.843979, expected=-100.900000\n",
      "predicted=-1.843979, expected=30.100000\n",
      "predicted=-1.843979, expected=30.900000\n",
      "predicted=-1.843979, expected=-40.500000\n",
      "predicted=-1.843979, expected=-116.700000\n",
      "predicted=-1.843979, expected=132.600000\n",
      "predicted=-1.843979, expected=53.500000\n",
      "predicted=-1.843979, expected=-70.450000\n"
     ]
    }
   ],
   "source": [
    "train_set=[x for x in train]\n",
    "predict=[]\n",
    "for i in range(len(test)) :\n",
    "    model_1=ARMA(train_set,order=(2,2))\n",
    "    results = model.fit()\n",
    "    output=results.forecast()\n",
    "    predict.append(output[0])\n",
    "    obs=test[i]\n",
    "    train_set.append(obs)\n",
    "    print('predicted=%f, expected=%f' % (output[0], obs))"
   ]
  },
  {
   "cell_type": "code",
   "execution_count": 30,
   "metadata": {},
   "outputs": [
    {
     "ename": "NameError",
     "evalue": "name 'predict' is not defined",
     "output_type": "error",
     "traceback": [
      "\u001b[1;31m---------------------------------------------------------------------------\u001b[0m",
      "\u001b[1;31mNameError\u001b[0m                                 Traceback (most recent call last)",
      "\u001b[1;32m<ipython-input-30-7afe4e74bf1a>\u001b[0m in \u001b[0;36m<module>\u001b[1;34m()\u001b[0m\n\u001b[1;32m----> 1\u001b[1;33m \u001b[0mpredict\u001b[0m\u001b[1;33m\u001b[0m\u001b[0m\n\u001b[0m",
      "\u001b[1;31mNameError\u001b[0m: name 'predict' is not defined"
     ]
    }
   ],
   "source": [
    "predict"
   ]
  },
  {
   "cell_type": "code",
   "execution_count": null,
   "metadata": {},
   "outputs": [],
   "source": []
  }
 ],
 "metadata": {
  "kernelspec": {
   "display_name": "Python 3",
   "language": "python",
   "name": "python3"
  },
  "language_info": {
   "codemirror_mode": {
    "name": "ipython",
    "version": 3
   },
   "file_extension": ".py",
   "mimetype": "text/x-python",
   "name": "python",
   "nbconvert_exporter": "python",
   "pygments_lexer": "ipython3",
   "version": "3.6.4"
  }
 },
 "nbformat": 4,
 "nbformat_minor": 2
}
