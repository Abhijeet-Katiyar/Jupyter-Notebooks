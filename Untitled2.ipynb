{
 "cells": [
  {
   "cell_type": "code",
   "execution_count": 1,
   "metadata": {},
   "outputs": [],
   "source": [
    "import pandas as pd\n",
    "import numpy as np"
   ]
  },
  {
   "cell_type": "code",
   "execution_count": 3,
   "metadata": {},
   "outputs": [],
   "source": [
    "xlsx=pd.ExcelFile('E:/Capgemini/Demandv1.1.xlsx')\n",
    "Headcount= pd.read_excel(xlsx, 'Headcount')\n",
    "Demand_Trend=pd.read_excel(xlsx, 'Demand Trend Last year')"
   ]
  },
  {
   "cell_type": "code",
   "execution_count": 4,
   "metadata": {},
   "outputs": [
    {
     "data": {
      "text/html": [
       "<div>\n",
       "<style scoped>\n",
       "    .dataframe tbody tr th:only-of-type {\n",
       "        vertical-align: middle;\n",
       "    }\n",
       "\n",
       "    .dataframe tbody tr th {\n",
       "        vertical-align: top;\n",
       "    }\n",
       "\n",
       "    .dataframe thead th {\n",
       "        text-align: right;\n",
       "    }\n",
       "</style>\n",
       "<table border=\"1\" class=\"dataframe\">\n",
       "  <thead>\n",
       "    <tr style=\"text-align: right;\">\n",
       "      <th></th>\n",
       "      <th>Region</th>\n",
       "      <th>Employee Code</th>\n",
       "      <th>Last Name</th>\n",
       "      <th>Local Date of Joining</th>\n",
       "      <th>Designation</th>\n",
       "      <th>Status</th>\n",
       "      <th>Market Unit</th>\n",
       "      <th>SkillList</th>\n",
       "      <th>Location</th>\n",
       "    </tr>\n",
       "  </thead>\n",
       "  <tbody>\n",
       "    <tr>\n",
       "      <th>0</th>\n",
       "      <td>US</td>\n",
       "      <td>45149</td>\n",
       "      <td>AALLURI</td>\n",
       "      <td>2016-10-31</td>\n",
       "      <td>CONSULTANT</td>\n",
       "      <td>Billable</td>\n",
       "      <td>BANK</td>\n",
       "      <td>Salesforce (Functional)</td>\n",
       "      <td>Bangalore</td>\n",
       "    </tr>\n",
       "    <tr>\n",
       "      <th>1</th>\n",
       "      <td>IN</td>\n",
       "      <td>47875</td>\n",
       "      <td>AARATTUKULAM</td>\n",
       "      <td>2014-11-20</td>\n",
       "      <td>SENIOR SOFTWARE ENGINEER</td>\n",
       "      <td>Billable</td>\n",
       "      <td>BANK</td>\n",
       "      <td>Amazon Web services - Build , Administration a...</td>\n",
       "      <td>Bhubaneswar</td>\n",
       "    </tr>\n",
       "    <tr>\n",
       "      <th>2</th>\n",
       "      <td>IN</td>\n",
       "      <td>90386</td>\n",
       "      <td>AASHIK</td>\n",
       "      <td>2014-12-15</td>\n",
       "      <td>ASSOCIATE CONSULTANT</td>\n",
       "      <td>Billable</td>\n",
       "      <td>BANK</td>\n",
       "      <td>Amazon Web services - Build , Administration a...</td>\n",
       "      <td>Pune</td>\n",
       "    </tr>\n",
       "    <tr>\n",
       "      <th>3</th>\n",
       "      <td>IN</td>\n",
       "      <td>41161</td>\n",
       "      <td>Aastha</td>\n",
       "      <td>2015-02-26</td>\n",
       "      <td>ASSOCIATE CONSULTANT</td>\n",
       "      <td>Billable</td>\n",
       "      <td>BANK</td>\n",
       "      <td>Test Automation</td>\n",
       "      <td>Bhubaneswar</td>\n",
       "    </tr>\n",
       "    <tr>\n",
       "      <th>4</th>\n",
       "      <td>IN</td>\n",
       "      <td>92293</td>\n",
       "      <td>ABBAN</td>\n",
       "      <td>2013-12-02</td>\n",
       "      <td>CONSULTANT</td>\n",
       "      <td>Billable</td>\n",
       "      <td>BANK</td>\n",
       "      <td>PMO (Account)</td>\n",
       "      <td>Noida</td>\n",
       "    </tr>\n",
       "  </tbody>\n",
       "</table>\n",
       "</div>"
      ],
      "text/plain": [
       "  Region  Employee Code     Last Name Local Date of Joining  \\\n",
       "0     US          45149       AALLURI            2016-10-31   \n",
       "1     IN          47875  AARATTUKULAM            2014-11-20   \n",
       "2     IN          90386        AASHIK            2014-12-15   \n",
       "3     IN          41161        Aastha            2015-02-26   \n",
       "4     IN          92293         ABBAN            2013-12-02   \n",
       "\n",
       "                Designation    Status Market Unit  \\\n",
       "0                CONSULTANT  Billable        BANK   \n",
       "1  SENIOR SOFTWARE ENGINEER  Billable        BANK   \n",
       "2      ASSOCIATE CONSULTANT  Billable        BANK   \n",
       "3      ASSOCIATE CONSULTANT  Billable        BANK   \n",
       "4                CONSULTANT  Billable        BANK   \n",
       "\n",
       "                                           SkillList     Location  \n",
       "0                            Salesforce (Functional)    Bangalore  \n",
       "1  Amazon Web services - Build , Administration a...  Bhubaneswar  \n",
       "2  Amazon Web services - Build , Administration a...         Pune  \n",
       "3                                    Test Automation  Bhubaneswar  \n",
       "4                                      PMO (Account)        Noida  "
      ]
     },
     "execution_count": 4,
     "metadata": {},
     "output_type": "execute_result"
    }
   ],
   "source": [
    "Headcount.head()"
   ]
  },
  {
   "cell_type": "code",
   "execution_count": 5,
   "metadata": {},
   "outputs": [
    {
     "data": {
      "text/html": [
       "<div>\n",
       "<style scoped>\n",
       "    .dataframe tbody tr th:only-of-type {\n",
       "        vertical-align: middle;\n",
       "    }\n",
       "\n",
       "    .dataframe tbody tr th {\n",
       "        vertical-align: top;\n",
       "    }\n",
       "\n",
       "    .dataframe thead th {\n",
       "        text-align: right;\n",
       "    }\n",
       "</style>\n",
       "<table border=\"1\" class=\"dataframe\">\n",
       "  <thead>\n",
       "    <tr style=\"text-align: right;\">\n",
       "      <th></th>\n",
       "      <th>Month DD Raised</th>\n",
       "      <th>No. of FTE Request Raised</th>\n",
       "      <th>SkillList</th>\n",
       "      <th>Location</th>\n",
       "      <th>Experience Grade</th>\n",
       "      <th>Practice</th>\n",
       "      <th>Skill Group</th>\n",
       "      <th>Demand Source</th>\n",
       "    </tr>\n",
       "  </thead>\n",
       "  <tbody>\n",
       "    <tr>\n",
       "      <th>0</th>\n",
       "      <td>May</td>\n",
       "      <td>4</td>\n",
       "      <td>Salesforce (Functional)</td>\n",
       "      <td>Bangalore</td>\n",
       "      <td>A4</td>\n",
       "      <td>BANK</td>\n",
       "      <td>(F) IT Operations</td>\n",
       "      <td>Account</td>\n",
       "    </tr>\n",
       "    <tr>\n",
       "      <th>1</th>\n",
       "      <td>October</td>\n",
       "      <td>2</td>\n",
       "      <td>Amazon Web services - Build , Administration a...</td>\n",
       "      <td>Bhubaneswar</td>\n",
       "      <td>B2</td>\n",
       "      <td>M&amp;FT</td>\n",
       "      <td>(F) IT Operations</td>\n",
       "      <td>Account</td>\n",
       "    </tr>\n",
       "    <tr>\n",
       "      <th>2</th>\n",
       "      <td>March</td>\n",
       "      <td>2</td>\n",
       "      <td>Amazon Web services - Build , Administration a...</td>\n",
       "      <td>Pune</td>\n",
       "      <td>A3</td>\n",
       "      <td>TEST</td>\n",
       "      <td>NaN</td>\n",
       "      <td>Support</td>\n",
       "    </tr>\n",
       "    <tr>\n",
       "      <th>3</th>\n",
       "      <td>October</td>\n",
       "      <td>1</td>\n",
       "      <td>Test Automation</td>\n",
       "      <td>Bhubaneswar</td>\n",
       "      <td>B2</td>\n",
       "      <td>M&amp;FT</td>\n",
       "      <td>(F) IT Operations</td>\n",
       "      <td>Account</td>\n",
       "    </tr>\n",
       "    <tr>\n",
       "      <th>4</th>\n",
       "      <td>June</td>\n",
       "      <td>2</td>\n",
       "      <td>PMO (Account)</td>\n",
       "      <td>Noida</td>\n",
       "      <td>A5</td>\n",
       "      <td>I&amp;D</td>\n",
       "      <td>(D) Banking Sector</td>\n",
       "      <td>Proactive</td>\n",
       "    </tr>\n",
       "  </tbody>\n",
       "</table>\n",
       "</div>"
      ],
      "text/plain": [
       "  Month DD Raised  No. of FTE Request Raised  \\\n",
       "0             May                          4   \n",
       "1         October                          2   \n",
       "2           March                          2   \n",
       "3         October                          1   \n",
       "4            June                          2   \n",
       "\n",
       "                                           SkillList     Location  \\\n",
       "0                            Salesforce (Functional)    Bangalore   \n",
       "1  Amazon Web services - Build , Administration a...  Bhubaneswar   \n",
       "2  Amazon Web services - Build , Administration a...         Pune   \n",
       "3                                    Test Automation  Bhubaneswar   \n",
       "4                                      PMO (Account)        Noida   \n",
       "\n",
       "  Experience Grade Practice         Skill Group Demand Source  \n",
       "0               A4     BANK   (F) IT Operations       Account  \n",
       "1               B2     M&FT   (F) IT Operations       Account  \n",
       "2               A3     TEST                 NaN       Support  \n",
       "3               B2     M&FT   (F) IT Operations       Account  \n",
       "4               A5      I&D  (D) Banking Sector     Proactive  "
      ]
     },
     "execution_count": 5,
     "metadata": {},
     "output_type": "execute_result"
    }
   ],
   "source": [
    "Demand_Trend.head()"
   ]
  },
  {
   "cell_type": "code",
   "execution_count": 6,
   "metadata": {},
   "outputs": [
    {
     "name": "stdout",
     "output_type": "stream",
     "text": [
      "<class 'pandas.core.frame.DataFrame'>\n",
      "RangeIndex: 10000 entries, 0 to 9999\n",
      "Data columns (total 9 columns):\n",
      "Region                   10000 non-null object\n",
      "Employee Code            10000 non-null int64\n",
      "  Last Name              10000 non-null object\n",
      "Local Date of Joining    10000 non-null datetime64[ns]\n",
      "Designation              9992 non-null object\n",
      "Status                   10000 non-null object\n",
      "Market Unit              9859 non-null object\n",
      "SkillList                10000 non-null object\n",
      "Location                 9987 non-null object\n",
      "dtypes: datetime64[ns](1), int64(1), object(7)\n",
      "memory usage: 703.2+ KB\n"
     ]
    }
   ],
   "source": [
    "Headcount.info()"
   ]
  },
  {
   "cell_type": "code",
   "execution_count": 7,
   "metadata": {},
   "outputs": [
    {
     "name": "stdout",
     "output_type": "stream",
     "text": [
      "<class 'pandas.core.frame.DataFrame'>\n",
      "RangeIndex: 1023 entries, 0 to 1022\n",
      "Data columns (total 8 columns):\n",
      "Month DD Raised              1023 non-null object\n",
      "No. of FTE Request Raised    1023 non-null int64\n",
      "SkillList                    1023 non-null object\n",
      "Location                     1023 non-null object\n",
      "Experience Grade             1023 non-null object\n",
      "Practice                     1023 non-null object\n",
      "Skill Group                  981 non-null object\n",
      "Demand Source                1023 non-null object\n",
      "dtypes: int64(1), object(7)\n",
      "memory usage: 64.0+ KB\n"
     ]
    }
   ],
   "source": [
    "Demand_Trend.info()\n"
   ]
  },
  {
   "cell_type": "code",
   "execution_count": 8,
   "metadata": {},
   "outputs": [
    {
     "data": {
      "text/plain": [
       "Pune           1925\n",
       "Bhubaneswar    1826\n",
       "Gurgaon        1711\n",
       "Noida          1554\n",
       "Hartford        848\n",
       "Hyderabad       846\n",
       "Bangalore       646\n",
       "Chennai         631\n",
       "Name: Location, dtype: int64"
      ]
     },
     "execution_count": 8,
     "metadata": {},
     "output_type": "execute_result"
    }
   ],
   "source": [
    "Headcount.Location.value_counts()"
   ]
  },
  {
   "cell_type": "code",
   "execution_count": 9,
   "metadata": {},
   "outputs": [
    {
     "data": {
      "text/plain": [
       "CONSULTANT                  2552\n",
       "SENIOR CONSULTANT           2349\n",
       "ASSOCIATE CONSULTANT        2176\n",
       "MANAGER                     1551\n",
       "SENIOR MANAGER               482\n",
       "DIRECTOR                     307\n",
       "PORTFOLIO MANAGER            205\n",
       "SENIOR DIRECTOR              145\n",
       "SENIOR SOFTWARE ENGINEER     118\n",
       "VICE PRESIDENT                67\n",
       "EXECUTIVE VICE PRESIDENT      32\n",
       "SOFTWARE ENGINEER              8\n",
       "Name: Designation, dtype: int64"
      ]
     },
     "execution_count": 9,
     "metadata": {},
     "output_type": "execute_result"
    }
   ],
   "source": [
    "Headcount.Designation.value_counts()"
   ]
  },
  {
   "cell_type": "code",
   "execution_count": null,
   "metadata": {},
   "outputs": [],
   "source": []
  }
 ],
 "metadata": {
  "kernelspec": {
   "display_name": "Python 3",
   "language": "python",
   "name": "python3"
  },
  "language_info": {
   "codemirror_mode": {
    "name": "ipython",
    "version": 3
   },
   "file_extension": ".py",
   "mimetype": "text/x-python",
   "name": "python",
   "nbconvert_exporter": "python",
   "pygments_lexer": "ipython3",
   "version": "3.6.4"
  }
 },
 "nbformat": 4,
 "nbformat_minor": 2
}
